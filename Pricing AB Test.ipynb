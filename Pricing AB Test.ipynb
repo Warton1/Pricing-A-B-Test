{
 "cells": [
  {
   "cell_type": "code",
   "execution_count": 4,
   "metadata": {},
   "outputs": [],
   "source": [
    "import numpy as np \n",
    "import pandas as pd \n",
    "import matplotlib.pyplot as plt\n",
    "from sklearn.preprocessing import LabelEncoder\n",
    "import seaborn as sns"
   ]
  },
  {
   "cell_type": "markdown",
   "metadata": {},
   "source": [
    "# Check Dataset"
   ]
  },
  {
   "cell_type": "code",
   "execution_count": 5,
   "metadata": {},
   "outputs": [
    {
     "data": {
      "text/html": [
       "<div>\n",
       "<style scoped>\n",
       "    .dataframe tbody tr th:only-of-type {\n",
       "        vertical-align: middle;\n",
       "    }\n",
       "\n",
       "    .dataframe tbody tr th {\n",
       "        vertical-align: top;\n",
       "    }\n",
       "\n",
       "    .dataframe thead th {\n",
       "        text-align: right;\n",
       "    }\n",
       "</style>\n",
       "<table border=\"1\" class=\"dataframe\">\n",
       "  <thead>\n",
       "    <tr style=\"text-align: right;\">\n",
       "      <th></th>\n",
       "      <th>user_id</th>\n",
       "      <th>timestamp</th>\n",
       "      <th>source</th>\n",
       "      <th>device</th>\n",
       "      <th>operative_system</th>\n",
       "      <th>test</th>\n",
       "      <th>price</th>\n",
       "      <th>converted</th>\n",
       "    </tr>\n",
       "  </thead>\n",
       "  <tbody>\n",
       "    <tr>\n",
       "      <td>0</td>\n",
       "      <td>604839</td>\n",
       "      <td>2015-05-08 03:38:34</td>\n",
       "      <td>ads_facebook</td>\n",
       "      <td>mobile</td>\n",
       "      <td>iOS</td>\n",
       "      <td>0</td>\n",
       "      <td>39</td>\n",
       "      <td>0</td>\n",
       "    </tr>\n",
       "    <tr>\n",
       "      <td>1</td>\n",
       "      <td>624057</td>\n",
       "      <td>2015-05-10 21:08:46</td>\n",
       "      <td>seo-google</td>\n",
       "      <td>mobile</td>\n",
       "      <td>android</td>\n",
       "      <td>0</td>\n",
       "      <td>39</td>\n",
       "      <td>0</td>\n",
       "    </tr>\n",
       "    <tr>\n",
       "      <td>2</td>\n",
       "      <td>317970</td>\n",
       "      <td>2015-04-04 15:01:23</td>\n",
       "      <td>ads-bing</td>\n",
       "      <td>mobile</td>\n",
       "      <td>android</td>\n",
       "      <td>0</td>\n",
       "      <td>39</td>\n",
       "      <td>0</td>\n",
       "    </tr>\n",
       "    <tr>\n",
       "      <td>3</td>\n",
       "      <td>685636</td>\n",
       "      <td>2015-05-07 07:26:01</td>\n",
       "      <td>direct_traffic</td>\n",
       "      <td>mobile</td>\n",
       "      <td>iOS</td>\n",
       "      <td>1</td>\n",
       "      <td>59</td>\n",
       "      <td>0</td>\n",
       "    </tr>\n",
       "    <tr>\n",
       "      <td>4</td>\n",
       "      <td>820854</td>\n",
       "      <td>2015-05-24 11:04:40</td>\n",
       "      <td>ads_facebook</td>\n",
       "      <td>web</td>\n",
       "      <td>mac</td>\n",
       "      <td>0</td>\n",
       "      <td>39</td>\n",
       "      <td>0</td>\n",
       "    </tr>\n",
       "    <tr>\n",
       "      <td>...</td>\n",
       "      <td>...</td>\n",
       "      <td>...</td>\n",
       "      <td>...</td>\n",
       "      <td>...</td>\n",
       "      <td>...</td>\n",
       "      <td>...</td>\n",
       "      <td>...</td>\n",
       "      <td>...</td>\n",
       "    </tr>\n",
       "    <tr>\n",
       "      <td>316795</td>\n",
       "      <td>17427</td>\n",
       "      <td>2015-04-11 09:29:15</td>\n",
       "      <td>ads_facebook</td>\n",
       "      <td>web</td>\n",
       "      <td>windows</td>\n",
       "      <td>0</td>\n",
       "      <td>39</td>\n",
       "      <td>0</td>\n",
       "    </tr>\n",
       "    <tr>\n",
       "      <td>316796</td>\n",
       "      <td>687787</td>\n",
       "      <td>2015-03-16 23:31:55</td>\n",
       "      <td>direct_traffic</td>\n",
       "      <td>web</td>\n",
       "      <td>windows</td>\n",
       "      <td>0</td>\n",
       "      <td>39</td>\n",
       "      <td>0</td>\n",
       "    </tr>\n",
       "    <tr>\n",
       "      <td>316797</td>\n",
       "      <td>618863</td>\n",
       "      <td>2015-04-11 01:35:19</td>\n",
       "      <td>ads-google</td>\n",
       "      <td>web</td>\n",
       "      <td>mac</td>\n",
       "      <td>0</td>\n",
       "      <td>39</td>\n",
       "      <td>0</td>\n",
       "    </tr>\n",
       "    <tr>\n",
       "      <td>316798</td>\n",
       "      <td>154636</td>\n",
       "      <td>2015-05-14 05:46:42</td>\n",
       "      <td>friend_referral</td>\n",
       "      <td>mobile</td>\n",
       "      <td>android</td>\n",
       "      <td>0</td>\n",
       "      <td>39</td>\n",
       "      <td>0</td>\n",
       "    </tr>\n",
       "    <tr>\n",
       "      <td>316799</td>\n",
       "      <td>832372</td>\n",
       "      <td>2015-03-08 17:12:33</td>\n",
       "      <td>ads_facebook</td>\n",
       "      <td>mobile</td>\n",
       "      <td>android</td>\n",
       "      <td>1</td>\n",
       "      <td>59</td>\n",
       "      <td>0</td>\n",
       "    </tr>\n",
       "  </tbody>\n",
       "</table>\n",
       "<p>316800 rows × 8 columns</p>\n",
       "</div>"
      ],
      "text/plain": [
       "        user_id            timestamp           source  device  \\\n",
       "0        604839  2015-05-08 03:38:34     ads_facebook  mobile   \n",
       "1        624057  2015-05-10 21:08:46       seo-google  mobile   \n",
       "2        317970  2015-04-04 15:01:23         ads-bing  mobile   \n",
       "3        685636  2015-05-07 07:26:01   direct_traffic  mobile   \n",
       "4        820854  2015-05-24 11:04:40     ads_facebook     web   \n",
       "...         ...                  ...              ...     ...   \n",
       "316795    17427  2015-04-11 09:29:15     ads_facebook     web   \n",
       "316796   687787  2015-03-16 23:31:55   direct_traffic     web   \n",
       "316797   618863  2015-04-11 01:35:19       ads-google     web   \n",
       "316798   154636  2015-05-14 05:46:42  friend_referral  mobile   \n",
       "316799   832372  2015-03-08 17:12:33     ads_facebook  mobile   \n",
       "\n",
       "       operative_system  test  price  converted  \n",
       "0                   iOS     0     39          0  \n",
       "1               android     0     39          0  \n",
       "2               android     0     39          0  \n",
       "3                   iOS     1     59          0  \n",
       "4                   mac     0     39          0  \n",
       "...                 ...   ...    ...        ...  \n",
       "316795          windows     0     39          0  \n",
       "316796          windows     0     39          0  \n",
       "316797              mac     0     39          0  \n",
       "316798          android     0     39          0  \n",
       "316799          android     1     59          0  \n",
       "\n",
       "[316800 rows x 8 columns]"
      ]
     },
     "execution_count": 5,
     "metadata": {},
     "output_type": "execute_result"
    }
   ],
   "source": [
    "#Input dataset\n",
    "test = pd.read_csv(\"~/Desktop/test_results.csv\")\n",
    "test"
   ]
  },
  {
   "cell_type": "code",
   "execution_count": 6,
   "metadata": {},
   "outputs": [
    {
     "name": "stdout",
     "output_type": "stream",
     "text": [
      "<class 'pandas.core.frame.DataFrame'>\n",
      "RangeIndex: 316800 entries, 0 to 316799\n",
      "Data columns (total 8 columns):\n",
      "user_id             316800 non-null int64\n",
      "timestamp           316800 non-null object\n",
      "source              316800 non-null object\n",
      "device              316800 non-null object\n",
      "operative_system    316800 non-null object\n",
      "test                316800 non-null int64\n",
      "price               316800 non-null int64\n",
      "converted           316800 non-null int64\n",
      "dtypes: int64(4), object(4)\n",
      "memory usage: 19.3+ MB\n"
     ]
    }
   ],
   "source": [
    "test.info()"
   ]
  },
  {
   "cell_type": "markdown",
   "metadata": {},
   "source": [
    "Check if user_id on test data are unique."
   ]
  },
  {
   "cell_type": "code",
   "execution_count": 7,
   "metadata": {},
   "outputs": [
    {
     "data": {
      "text/plain": [
       "316800"
      ]
     },
     "execution_count": 7,
     "metadata": {},
     "output_type": "execute_result"
    }
   ],
   "source": [
    "test['user_id'].nunique()"
   ]
  },
  {
   "cell_type": "code",
   "execution_count": 8,
   "metadata": {},
   "outputs": [
    {
     "data": {
      "text/html": [
       "<div>\n",
       "<style scoped>\n",
       "    .dataframe tbody tr th:only-of-type {\n",
       "        vertical-align: middle;\n",
       "    }\n",
       "\n",
       "    .dataframe tbody tr th {\n",
       "        vertical-align: top;\n",
       "    }\n",
       "\n",
       "    .dataframe thead th {\n",
       "        text-align: right;\n",
       "    }\n",
       "</style>\n",
       "<table border=\"1\" class=\"dataframe\">\n",
       "  <thead>\n",
       "    <tr style=\"text-align: right;\">\n",
       "      <th></th>\n",
       "      <th>user_id</th>\n",
       "      <th>city</th>\n",
       "      <th>country</th>\n",
       "      <th>lat</th>\n",
       "      <th>long</th>\n",
       "    </tr>\n",
       "  </thead>\n",
       "  <tbody>\n",
       "    <tr>\n",
       "      <td>0</td>\n",
       "      <td>510335</td>\n",
       "      <td>Peabody</td>\n",
       "      <td>USA</td>\n",
       "      <td>42.53</td>\n",
       "      <td>-70.97</td>\n",
       "    </tr>\n",
       "    <tr>\n",
       "      <td>1</td>\n",
       "      <td>89568</td>\n",
       "      <td>Reno</td>\n",
       "      <td>USA</td>\n",
       "      <td>39.54</td>\n",
       "      <td>-119.82</td>\n",
       "    </tr>\n",
       "    <tr>\n",
       "      <td>2</td>\n",
       "      <td>434134</td>\n",
       "      <td>Rialto</td>\n",
       "      <td>USA</td>\n",
       "      <td>34.11</td>\n",
       "      <td>-117.39</td>\n",
       "    </tr>\n",
       "    <tr>\n",
       "      <td>3</td>\n",
       "      <td>289769</td>\n",
       "      <td>Carson City</td>\n",
       "      <td>USA</td>\n",
       "      <td>39.15</td>\n",
       "      <td>-119.74</td>\n",
       "    </tr>\n",
       "    <tr>\n",
       "      <td>4</td>\n",
       "      <td>939586</td>\n",
       "      <td>Chicago</td>\n",
       "      <td>USA</td>\n",
       "      <td>41.84</td>\n",
       "      <td>-87.68</td>\n",
       "    </tr>\n",
       "    <tr>\n",
       "      <td>...</td>\n",
       "      <td>...</td>\n",
       "      <td>...</td>\n",
       "      <td>...</td>\n",
       "      <td>...</td>\n",
       "      <td>...</td>\n",
       "    </tr>\n",
       "    <tr>\n",
       "      <td>275611</td>\n",
       "      <td>485975</td>\n",
       "      <td>Atlanta</td>\n",
       "      <td>USA</td>\n",
       "      <td>33.76</td>\n",
       "      <td>-84.42</td>\n",
       "    </tr>\n",
       "    <tr>\n",
       "      <td>275612</td>\n",
       "      <td>35479</td>\n",
       "      <td>Los Angeles</td>\n",
       "      <td>USA</td>\n",
       "      <td>34.11</td>\n",
       "      <td>-118.41</td>\n",
       "    </tr>\n",
       "    <tr>\n",
       "      <td>275613</td>\n",
       "      <td>516519</td>\n",
       "      <td>Chicago</td>\n",
       "      <td>USA</td>\n",
       "      <td>41.84</td>\n",
       "      <td>-87.68</td>\n",
       "    </tr>\n",
       "    <tr>\n",
       "      <td>275614</td>\n",
       "      <td>984877</td>\n",
       "      <td>Tampa</td>\n",
       "      <td>USA</td>\n",
       "      <td>27.96</td>\n",
       "      <td>-82.48</td>\n",
       "    </tr>\n",
       "    <tr>\n",
       "      <td>275615</td>\n",
       "      <td>232078</td>\n",
       "      <td>Springfield</td>\n",
       "      <td>USA</td>\n",
       "      <td>44.05</td>\n",
       "      <td>-122.98</td>\n",
       "    </tr>\n",
       "  </tbody>\n",
       "</table>\n",
       "<p>275616 rows × 5 columns</p>\n",
       "</div>"
      ],
      "text/plain": [
       "        user_id         city country    lat    long\n",
       "0        510335      Peabody     USA  42.53  -70.97\n",
       "1         89568         Reno     USA  39.54 -119.82\n",
       "2        434134       Rialto     USA  34.11 -117.39\n",
       "3        289769  Carson City     USA  39.15 -119.74\n",
       "4        939586      Chicago     USA  41.84  -87.68\n",
       "...         ...          ...     ...    ...     ...\n",
       "275611   485975      Atlanta     USA  33.76  -84.42\n",
       "275612    35479  Los Angeles     USA  34.11 -118.41\n",
       "275613   516519      Chicago     USA  41.84  -87.68\n",
       "275614   984877        Tampa     USA  27.96  -82.48\n",
       "275615   232078  Springfield     USA  44.05 -122.98\n",
       "\n",
       "[275616 rows x 5 columns]"
      ]
     },
     "execution_count": 8,
     "metadata": {},
     "output_type": "execute_result"
    }
   ],
   "source": [
    "#Input dataset\n",
    "user = pd.read_csv(\"~/Desktop/user_table.csv\")\n",
    "user"
   ]
  },
  {
   "cell_type": "code",
   "execution_count": 9,
   "metadata": {},
   "outputs": [
    {
     "name": "stdout",
     "output_type": "stream",
     "text": [
      "<class 'pandas.core.frame.DataFrame'>\n",
      "RangeIndex: 275616 entries, 0 to 275615\n",
      "Data columns (total 5 columns):\n",
      "user_id    275616 non-null int64\n",
      "city       275616 non-null object\n",
      "country    275616 non-null object\n",
      "lat        275616 non-null float64\n",
      "long       275616 non-null float64\n",
      "dtypes: float64(2), int64(1), object(2)\n",
      "memory usage: 10.5+ MB\n"
     ]
    }
   ],
   "source": [
    "user.info()"
   ]
  },
  {
   "cell_type": "markdown",
   "metadata": {},
   "source": [
    "Check if user_id on user data are unique."
   ]
  },
  {
   "cell_type": "code",
   "execution_count": 10,
   "metadata": {},
   "outputs": [
    {
     "data": {
      "text/plain": [
       "275616"
      ]
     },
     "execution_count": 10,
     "metadata": {},
     "output_type": "execute_result"
    }
   ],
   "source": [
    "user['user_id'].nunique()"
   ]
  },
  {
   "cell_type": "markdown",
   "metadata": {},
   "source": [
    "316800 - 275616 = 41184. There are 13% missing value "
   ]
  },
  {
   "cell_type": "markdown",
   "metadata": {},
   "source": [
    "# Data preparation"
   ]
  },
  {
   "cell_type": "markdown",
   "metadata": {},
   "source": [
    "Compare with the total dataset, 13% missing value will only slightly effect final result, I decide ignore missing rows. \n",
    "I will merge these two datasets by using Inner Joint."
   ]
  },
  {
   "cell_type": "code",
   "execution_count": 11,
   "metadata": {},
   "outputs": [
    {
     "data": {
      "text/html": [
       "<div>\n",
       "<style scoped>\n",
       "    .dataframe tbody tr th:only-of-type {\n",
       "        vertical-align: middle;\n",
       "    }\n",
       "\n",
       "    .dataframe tbody tr th {\n",
       "        vertical-align: top;\n",
       "    }\n",
       "\n",
       "    .dataframe thead th {\n",
       "        text-align: right;\n",
       "    }\n",
       "</style>\n",
       "<table border=\"1\" class=\"dataframe\">\n",
       "  <thead>\n",
       "    <tr style=\"text-align: right;\">\n",
       "      <th></th>\n",
       "      <th>user_id</th>\n",
       "      <th>timestamp</th>\n",
       "      <th>source</th>\n",
       "      <th>device</th>\n",
       "      <th>operative_system</th>\n",
       "      <th>test</th>\n",
       "      <th>price</th>\n",
       "      <th>converted</th>\n",
       "      <th>city</th>\n",
       "      <th>country</th>\n",
       "      <th>lat</th>\n",
       "      <th>long</th>\n",
       "    </tr>\n",
       "  </thead>\n",
       "  <tbody>\n",
       "    <tr>\n",
       "      <td>0</td>\n",
       "      <td>604839</td>\n",
       "      <td>2015-05-08 03:38:34</td>\n",
       "      <td>ads_facebook</td>\n",
       "      <td>mobile</td>\n",
       "      <td>iOS</td>\n",
       "      <td>0</td>\n",
       "      <td>39</td>\n",
       "      <td>0</td>\n",
       "      <td>Buffalo</td>\n",
       "      <td>USA</td>\n",
       "      <td>42.89</td>\n",
       "      <td>-78.86</td>\n",
       "    </tr>\n",
       "    <tr>\n",
       "      <td>1</td>\n",
       "      <td>624057</td>\n",
       "      <td>2015-05-10 21:08:46</td>\n",
       "      <td>seo-google</td>\n",
       "      <td>mobile</td>\n",
       "      <td>android</td>\n",
       "      <td>0</td>\n",
       "      <td>39</td>\n",
       "      <td>0</td>\n",
       "      <td>Lakeville</td>\n",
       "      <td>USA</td>\n",
       "      <td>44.68</td>\n",
       "      <td>-93.24</td>\n",
       "    </tr>\n",
       "    <tr>\n",
       "      <td>2</td>\n",
       "      <td>317970</td>\n",
       "      <td>2015-04-04 15:01:23</td>\n",
       "      <td>ads-bing</td>\n",
       "      <td>mobile</td>\n",
       "      <td>android</td>\n",
       "      <td>0</td>\n",
       "      <td>39</td>\n",
       "      <td>0</td>\n",
       "      <td>Parma</td>\n",
       "      <td>USA</td>\n",
       "      <td>41.38</td>\n",
       "      <td>-81.73</td>\n",
       "    </tr>\n",
       "    <tr>\n",
       "      <td>3</td>\n",
       "      <td>685636</td>\n",
       "      <td>2015-05-07 07:26:01</td>\n",
       "      <td>direct_traffic</td>\n",
       "      <td>mobile</td>\n",
       "      <td>iOS</td>\n",
       "      <td>1</td>\n",
       "      <td>59</td>\n",
       "      <td>0</td>\n",
       "      <td>Fayetteville</td>\n",
       "      <td>USA</td>\n",
       "      <td>35.07</td>\n",
       "      <td>-78.90</td>\n",
       "    </tr>\n",
       "    <tr>\n",
       "      <td>4</td>\n",
       "      <td>820854</td>\n",
       "      <td>2015-05-24 11:04:40</td>\n",
       "      <td>ads_facebook</td>\n",
       "      <td>web</td>\n",
       "      <td>mac</td>\n",
       "      <td>0</td>\n",
       "      <td>39</td>\n",
       "      <td>0</td>\n",
       "      <td>Fishers</td>\n",
       "      <td>USA</td>\n",
       "      <td>39.95</td>\n",
       "      <td>-86.02</td>\n",
       "    </tr>\n",
       "    <tr>\n",
       "      <td>...</td>\n",
       "      <td>...</td>\n",
       "      <td>...</td>\n",
       "      <td>...</td>\n",
       "      <td>...</td>\n",
       "      <td>...</td>\n",
       "      <td>...</td>\n",
       "      <td>...</td>\n",
       "      <td>...</td>\n",
       "      <td>...</td>\n",
       "      <td>...</td>\n",
       "      <td>...</td>\n",
       "      <td>...</td>\n",
       "    </tr>\n",
       "    <tr>\n",
       "      <td>275611</td>\n",
       "      <td>388438</td>\n",
       "      <td>2015-05-20 11:34:44</td>\n",
       "      <td>seo-google</td>\n",
       "      <td>web</td>\n",
       "      <td>windows</td>\n",
       "      <td>1</td>\n",
       "      <td>59</td>\n",
       "      <td>0</td>\n",
       "      <td>Joliet</td>\n",
       "      <td>USA</td>\n",
       "      <td>41.53</td>\n",
       "      <td>-88.12</td>\n",
       "    </tr>\n",
       "    <tr>\n",
       "      <td>275612</td>\n",
       "      <td>687787</td>\n",
       "      <td>2015-03-16 23:31:55</td>\n",
       "      <td>direct_traffic</td>\n",
       "      <td>web</td>\n",
       "      <td>windows</td>\n",
       "      <td>0</td>\n",
       "      <td>39</td>\n",
       "      <td>0</td>\n",
       "      <td>Bell Gardens</td>\n",
       "      <td>USA</td>\n",
       "      <td>33.97</td>\n",
       "      <td>-118.15</td>\n",
       "    </tr>\n",
       "    <tr>\n",
       "      <td>275613</td>\n",
       "      <td>618863</td>\n",
       "      <td>2015-04-11 01:35:19</td>\n",
       "      <td>ads-google</td>\n",
       "      <td>web</td>\n",
       "      <td>mac</td>\n",
       "      <td>0</td>\n",
       "      <td>39</td>\n",
       "      <td>0</td>\n",
       "      <td>West Seneca</td>\n",
       "      <td>USA</td>\n",
       "      <td>42.84</td>\n",
       "      <td>-78.75</td>\n",
       "    </tr>\n",
       "    <tr>\n",
       "      <td>275614</td>\n",
       "      <td>154636</td>\n",
       "      <td>2015-05-14 05:46:42</td>\n",
       "      <td>friend_referral</td>\n",
       "      <td>mobile</td>\n",
       "      <td>android</td>\n",
       "      <td>0</td>\n",
       "      <td>39</td>\n",
       "      <td>0</td>\n",
       "      <td>Walnut Creek</td>\n",
       "      <td>USA</td>\n",
       "      <td>37.90</td>\n",
       "      <td>-122.04</td>\n",
       "    </tr>\n",
       "    <tr>\n",
       "      <td>275615</td>\n",
       "      <td>832372</td>\n",
       "      <td>2015-03-08 17:12:33</td>\n",
       "      <td>ads_facebook</td>\n",
       "      <td>mobile</td>\n",
       "      <td>android</td>\n",
       "      <td>1</td>\n",
       "      <td>59</td>\n",
       "      <td>0</td>\n",
       "      <td>Chicago</td>\n",
       "      <td>USA</td>\n",
       "      <td>41.84</td>\n",
       "      <td>-87.68</td>\n",
       "    </tr>\n",
       "  </tbody>\n",
       "</table>\n",
       "<p>275616 rows × 12 columns</p>\n",
       "</div>"
      ],
      "text/plain": [
       "        user_id            timestamp           source  device  \\\n",
       "0        604839  2015-05-08 03:38:34     ads_facebook  mobile   \n",
       "1        624057  2015-05-10 21:08:46       seo-google  mobile   \n",
       "2        317970  2015-04-04 15:01:23         ads-bing  mobile   \n",
       "3        685636  2015-05-07 07:26:01   direct_traffic  mobile   \n",
       "4        820854  2015-05-24 11:04:40     ads_facebook     web   \n",
       "...         ...                  ...              ...     ...   \n",
       "275611   388438  2015-05-20 11:34:44       seo-google     web   \n",
       "275612   687787  2015-03-16 23:31:55   direct_traffic     web   \n",
       "275613   618863  2015-04-11 01:35:19       ads-google     web   \n",
       "275614   154636  2015-05-14 05:46:42  friend_referral  mobile   \n",
       "275615   832372  2015-03-08 17:12:33     ads_facebook  mobile   \n",
       "\n",
       "       operative_system  test  price  converted          city country    lat  \\\n",
       "0                   iOS     0     39          0       Buffalo     USA  42.89   \n",
       "1               android     0     39          0     Lakeville     USA  44.68   \n",
       "2               android     0     39          0         Parma     USA  41.38   \n",
       "3                   iOS     1     59          0  Fayetteville     USA  35.07   \n",
       "4                   mac     0     39          0       Fishers     USA  39.95   \n",
       "...                 ...   ...    ...        ...           ...     ...    ...   \n",
       "275611          windows     1     59          0        Joliet     USA  41.53   \n",
       "275612          windows     0     39          0  Bell Gardens     USA  33.97   \n",
       "275613              mac     0     39          0   West Seneca     USA  42.84   \n",
       "275614          android     0     39          0  Walnut Creek     USA  37.90   \n",
       "275615          android     1     59          0       Chicago     USA  41.84   \n",
       "\n",
       "          long  \n",
       "0       -78.86  \n",
       "1       -93.24  \n",
       "2       -81.73  \n",
       "3       -78.90  \n",
       "4       -86.02  \n",
       "...        ...  \n",
       "275611  -88.12  \n",
       "275612 -118.15  \n",
       "275613  -78.75  \n",
       "275614 -122.04  \n",
       "275615  -87.68  \n",
       "\n",
       "[275616 rows x 12 columns]"
      ]
     },
     "execution_count": 11,
     "metadata": {},
     "output_type": "execute_result"
    }
   ],
   "source": [
    "df = pd.merge(left = test, right = user, how = 'inner', on = 'user_id')\n",
    "df"
   ]
  },
  {
   "cell_type": "markdown",
   "metadata": {},
   "source": [
    "Check test result:"
   ]
  },
  {
   "cell_type": "code",
   "execution_count": 12,
   "metadata": {},
   "outputs": [
    {
     "data": {
      "text/html": [
       "<div>\n",
       "<style scoped>\n",
       "    .dataframe tbody tr th:only-of-type {\n",
       "        vertical-align: middle;\n",
       "    }\n",
       "\n",
       "    .dataframe tbody tr th {\n",
       "        vertical-align: top;\n",
       "    }\n",
       "\n",
       "    .dataframe thead th {\n",
       "        text-align: right;\n",
       "    }\n",
       "</style>\n",
       "<table border=\"1\" class=\"dataframe\">\n",
       "  <thead>\n",
       "    <tr style=\"text-align: right;\">\n",
       "      <th></th>\n",
       "      <th></th>\n",
       "      <th>user_id</th>\n",
       "    </tr>\n",
       "    <tr>\n",
       "      <th>test</th>\n",
       "      <th>price</th>\n",
       "      <th></th>\n",
       "    </tr>\n",
       "  </thead>\n",
       "  <tbody>\n",
       "    <tr>\n",
       "      <td rowspan=\"2\" valign=\"top\">0</td>\n",
       "      <td>39</td>\n",
       "      <td>176241</td>\n",
       "    </tr>\n",
       "    <tr>\n",
       "      <td>59</td>\n",
       "      <td>187</td>\n",
       "    </tr>\n",
       "    <tr>\n",
       "      <td rowspan=\"2\" valign=\"top\">1</td>\n",
       "      <td>39</td>\n",
       "      <td>135</td>\n",
       "    </tr>\n",
       "    <tr>\n",
       "      <td>59</td>\n",
       "      <td>99053</td>\n",
       "    </tr>\n",
       "  </tbody>\n",
       "</table>\n",
       "</div>"
      ],
      "text/plain": [
       "            user_id\n",
       "test price         \n",
       "0    39      176241\n",
       "     59         187\n",
       "1    39         135\n",
       "     59       99053"
      ]
     },
     "execution_count": 12,
     "metadata": {},
     "output_type": "execute_result"
    }
   ],
   "source": [
    "df[['price', 'test', 'user_id']].groupby(['test', 'price']).count()"
   ]
  },
  {
   "cell_type": "markdown",
   "metadata": {},
   "source": [
    "Some issues with test dataset:\n",
    "\n",
    "There are a small amount of users who are labelled with test=0 but actually price is 59 \n",
    "There are a small amount of users who are labelled with test=1 but actually price is 39\n",
    "\n"
   ]
  },
  {
   "cell_type": "markdown",
   "metadata": {},
   "source": [
    "Therefore, keep the valid data"
   ]
  },
  {
   "cell_type": "code",
   "execution_count": 21,
   "metadata": {},
   "outputs": [],
   "source": [
    "df = df[((df['test']==0) & (df['price']==39)) | ((df['test']==1) & (df['price']==59))]"
   ]
  },
  {
   "cell_type": "markdown",
   "metadata": {},
   "source": [
    "Create new column called Revenue"
   ]
  },
  {
   "cell_type": "code",
   "execution_count": 24,
   "metadata": {},
   "outputs": [
    {
     "data": {
      "text/html": [
       "<div>\n",
       "<style scoped>\n",
       "    .dataframe tbody tr th:only-of-type {\n",
       "        vertical-align: middle;\n",
       "    }\n",
       "\n",
       "    .dataframe tbody tr th {\n",
       "        vertical-align: top;\n",
       "    }\n",
       "\n",
       "    .dataframe thead th {\n",
       "        text-align: right;\n",
       "    }\n",
       "</style>\n",
       "<table border=\"1\" class=\"dataframe\">\n",
       "  <thead>\n",
       "    <tr style=\"text-align: right;\">\n",
       "      <th></th>\n",
       "      <th>user_id</th>\n",
       "      <th>timestamp</th>\n",
       "      <th>source</th>\n",
       "      <th>device</th>\n",
       "      <th>operative_system</th>\n",
       "      <th>test</th>\n",
       "      <th>price</th>\n",
       "      <th>converted</th>\n",
       "      <th>city</th>\n",
       "      <th>country</th>\n",
       "      <th>lat</th>\n",
       "      <th>long</th>\n",
       "      <th>revenue</th>\n",
       "    </tr>\n",
       "  </thead>\n",
       "  <tbody>\n",
       "    <tr>\n",
       "      <td>0</td>\n",
       "      <td>604839</td>\n",
       "      <td>2015-05-08 03:38:34</td>\n",
       "      <td>ads_facebook</td>\n",
       "      <td>mobile</td>\n",
       "      <td>iOS</td>\n",
       "      <td>0</td>\n",
       "      <td>39</td>\n",
       "      <td>0</td>\n",
       "      <td>Buffalo</td>\n",
       "      <td>USA</td>\n",
       "      <td>42.89</td>\n",
       "      <td>-78.86</td>\n",
       "      <td>0</td>\n",
       "    </tr>\n",
       "    <tr>\n",
       "      <td>1</td>\n",
       "      <td>624057</td>\n",
       "      <td>2015-05-10 21:08:46</td>\n",
       "      <td>seo-google</td>\n",
       "      <td>mobile</td>\n",
       "      <td>android</td>\n",
       "      <td>0</td>\n",
       "      <td>39</td>\n",
       "      <td>0</td>\n",
       "      <td>Lakeville</td>\n",
       "      <td>USA</td>\n",
       "      <td>44.68</td>\n",
       "      <td>-93.24</td>\n",
       "      <td>0</td>\n",
       "    </tr>\n",
       "    <tr>\n",
       "      <td>2</td>\n",
       "      <td>317970</td>\n",
       "      <td>2015-04-04 15:01:23</td>\n",
       "      <td>ads-bing</td>\n",
       "      <td>mobile</td>\n",
       "      <td>android</td>\n",
       "      <td>0</td>\n",
       "      <td>39</td>\n",
       "      <td>0</td>\n",
       "      <td>Parma</td>\n",
       "      <td>USA</td>\n",
       "      <td>41.38</td>\n",
       "      <td>-81.73</td>\n",
       "      <td>0</td>\n",
       "    </tr>\n",
       "    <tr>\n",
       "      <td>3</td>\n",
       "      <td>685636</td>\n",
       "      <td>2015-05-07 07:26:01</td>\n",
       "      <td>direct_traffic</td>\n",
       "      <td>mobile</td>\n",
       "      <td>iOS</td>\n",
       "      <td>1</td>\n",
       "      <td>59</td>\n",
       "      <td>0</td>\n",
       "      <td>Fayetteville</td>\n",
       "      <td>USA</td>\n",
       "      <td>35.07</td>\n",
       "      <td>-78.90</td>\n",
       "      <td>0</td>\n",
       "    </tr>\n",
       "    <tr>\n",
       "      <td>4</td>\n",
       "      <td>820854</td>\n",
       "      <td>2015-05-24 11:04:40</td>\n",
       "      <td>ads_facebook</td>\n",
       "      <td>web</td>\n",
       "      <td>mac</td>\n",
       "      <td>0</td>\n",
       "      <td>39</td>\n",
       "      <td>0</td>\n",
       "      <td>Fishers</td>\n",
       "      <td>USA</td>\n",
       "      <td>39.95</td>\n",
       "      <td>-86.02</td>\n",
       "      <td>0</td>\n",
       "    </tr>\n",
       "    <tr>\n",
       "      <td>...</td>\n",
       "      <td>...</td>\n",
       "      <td>...</td>\n",
       "      <td>...</td>\n",
       "      <td>...</td>\n",
       "      <td>...</td>\n",
       "      <td>...</td>\n",
       "      <td>...</td>\n",
       "      <td>...</td>\n",
       "      <td>...</td>\n",
       "      <td>...</td>\n",
       "      <td>...</td>\n",
       "      <td>...</td>\n",
       "      <td>...</td>\n",
       "    </tr>\n",
       "    <tr>\n",
       "      <td>275611</td>\n",
       "      <td>388438</td>\n",
       "      <td>2015-05-20 11:34:44</td>\n",
       "      <td>seo-google</td>\n",
       "      <td>web</td>\n",
       "      <td>windows</td>\n",
       "      <td>1</td>\n",
       "      <td>59</td>\n",
       "      <td>0</td>\n",
       "      <td>Joliet</td>\n",
       "      <td>USA</td>\n",
       "      <td>41.53</td>\n",
       "      <td>-88.12</td>\n",
       "      <td>0</td>\n",
       "    </tr>\n",
       "    <tr>\n",
       "      <td>275612</td>\n",
       "      <td>687787</td>\n",
       "      <td>2015-03-16 23:31:55</td>\n",
       "      <td>direct_traffic</td>\n",
       "      <td>web</td>\n",
       "      <td>windows</td>\n",
       "      <td>0</td>\n",
       "      <td>39</td>\n",
       "      <td>0</td>\n",
       "      <td>Bell Gardens</td>\n",
       "      <td>USA</td>\n",
       "      <td>33.97</td>\n",
       "      <td>-118.15</td>\n",
       "      <td>0</td>\n",
       "    </tr>\n",
       "    <tr>\n",
       "      <td>275613</td>\n",
       "      <td>618863</td>\n",
       "      <td>2015-04-11 01:35:19</td>\n",
       "      <td>ads-google</td>\n",
       "      <td>web</td>\n",
       "      <td>mac</td>\n",
       "      <td>0</td>\n",
       "      <td>39</td>\n",
       "      <td>0</td>\n",
       "      <td>West Seneca</td>\n",
       "      <td>USA</td>\n",
       "      <td>42.84</td>\n",
       "      <td>-78.75</td>\n",
       "      <td>0</td>\n",
       "    </tr>\n",
       "    <tr>\n",
       "      <td>275614</td>\n",
       "      <td>154636</td>\n",
       "      <td>2015-05-14 05:46:42</td>\n",
       "      <td>friend_referral</td>\n",
       "      <td>mobile</td>\n",
       "      <td>android</td>\n",
       "      <td>0</td>\n",
       "      <td>39</td>\n",
       "      <td>0</td>\n",
       "      <td>Walnut Creek</td>\n",
       "      <td>USA</td>\n",
       "      <td>37.90</td>\n",
       "      <td>-122.04</td>\n",
       "      <td>0</td>\n",
       "    </tr>\n",
       "    <tr>\n",
       "      <td>275615</td>\n",
       "      <td>832372</td>\n",
       "      <td>2015-03-08 17:12:33</td>\n",
       "      <td>ads_facebook</td>\n",
       "      <td>mobile</td>\n",
       "      <td>android</td>\n",
       "      <td>1</td>\n",
       "      <td>59</td>\n",
       "      <td>0</td>\n",
       "      <td>Chicago</td>\n",
       "      <td>USA</td>\n",
       "      <td>41.84</td>\n",
       "      <td>-87.68</td>\n",
       "      <td>0</td>\n",
       "    </tr>\n",
       "  </tbody>\n",
       "</table>\n",
       "<p>275294 rows × 13 columns</p>\n",
       "</div>"
      ],
      "text/plain": [
       "        user_id            timestamp           source  device  \\\n",
       "0        604839  2015-05-08 03:38:34     ads_facebook  mobile   \n",
       "1        624057  2015-05-10 21:08:46       seo-google  mobile   \n",
       "2        317970  2015-04-04 15:01:23         ads-bing  mobile   \n",
       "3        685636  2015-05-07 07:26:01   direct_traffic  mobile   \n",
       "4        820854  2015-05-24 11:04:40     ads_facebook     web   \n",
       "...         ...                  ...              ...     ...   \n",
       "275611   388438  2015-05-20 11:34:44       seo-google     web   \n",
       "275612   687787  2015-03-16 23:31:55   direct_traffic     web   \n",
       "275613   618863  2015-04-11 01:35:19       ads-google     web   \n",
       "275614   154636  2015-05-14 05:46:42  friend_referral  mobile   \n",
       "275615   832372  2015-03-08 17:12:33     ads_facebook  mobile   \n",
       "\n",
       "       operative_system  test  price  converted          city country    lat  \\\n",
       "0                   iOS     0     39          0       Buffalo     USA  42.89   \n",
       "1               android     0     39          0     Lakeville     USA  44.68   \n",
       "2               android     0     39          0         Parma     USA  41.38   \n",
       "3                   iOS     1     59          0  Fayetteville     USA  35.07   \n",
       "4                   mac     0     39          0       Fishers     USA  39.95   \n",
       "...                 ...   ...    ...        ...           ...     ...    ...   \n",
       "275611          windows     1     59          0        Joliet     USA  41.53   \n",
       "275612          windows     0     39          0  Bell Gardens     USA  33.97   \n",
       "275613              mac     0     39          0   West Seneca     USA  42.84   \n",
       "275614          android     0     39          0  Walnut Creek     USA  37.90   \n",
       "275615          android     1     59          0       Chicago     USA  41.84   \n",
       "\n",
       "          long  revenue  \n",
       "0       -78.86        0  \n",
       "1       -93.24        0  \n",
       "2       -81.73        0  \n",
       "3       -78.90        0  \n",
       "4       -86.02        0  \n",
       "...        ...      ...  \n",
       "275611  -88.12        0  \n",
       "275612 -118.15        0  \n",
       "275613  -78.75        0  \n",
       "275614 -122.04        0  \n",
       "275615  -87.68        0  \n",
       "\n",
       "[275294 rows x 13 columns]"
      ]
     },
     "execution_count": 24,
     "metadata": {},
     "output_type": "execute_result"
    }
   ],
   "source": [
    "df['revenue'] = df['converted'] * df['price']\n",
    "df"
   ]
  },
  {
   "cell_type": "code",
   "execution_count": 26,
   "metadata": {},
   "outputs": [
    {
     "data": {
      "text/plain": [
       "user_id             0\n",
       "timestamp           0\n",
       "source              0\n",
       "device              0\n",
       "operative_system    0\n",
       "test                0\n",
       "price               0\n",
       "converted           0\n",
       "city                0\n",
       "country             0\n",
       "lat                 0\n",
       "long                0\n",
       "revenue             0\n",
       "dtype: int64"
      ]
     },
     "execution_count": 26,
     "metadata": {},
     "output_type": "execute_result"
    }
   ],
   "source": [
    "df.isnull().sum()"
   ]
  },
  {
   "cell_type": "markdown",
   "metadata": {},
   "source": [
    "# Using Chi-Square test check A/Btest randomization"
   ]
  },
  {
   "cell_type": "markdown",
   "metadata": {},
   "source": [
    "Select variables to create a data set to test the composition of the experimental group and control group"
   ]
  },
  {
   "cell_type": "code",
   "execution_count": 30,
   "metadata": {},
   "outputs": [],
   "source": [
    "data = df[['user_id','source','device','operative_system','test','city']]\n",
    "data.set_index(['user_id'],inplace = True)"
   ]
  },
  {
   "cell_type": "markdown",
   "metadata": {},
   "source": [
    "Change variables to numerical label"
   ]
  },
  {
   "cell_type": "code",
   "execution_count": 41,
   "metadata": {},
   "outputs": [
    {
     "name": "stderr",
     "output_type": "stream",
     "text": [
      "/opt/anaconda3/lib/python3.7/site-packages/ipykernel_launcher.py:7: SettingWithCopyWarning: \n",
      "A value is trying to be set on a copy of a slice from a DataFrame.\n",
      "Try using .loc[row_indexer,col_indexer] = value instead\n",
      "\n",
      "See the caveats in the documentation: http://pandas.pydata.org/pandas-docs/stable/user_guide/indexing.html#returning-a-view-versus-a-copy\n",
      "  import sys\n",
      "/opt/anaconda3/lib/python3.7/site-packages/ipykernel_launcher.py:8: SettingWithCopyWarning: \n",
      "A value is trying to be set on a copy of a slice from a DataFrame.\n",
      "Try using .loc[row_indexer,col_indexer] = value instead\n",
      "\n",
      "See the caveats in the documentation: http://pandas.pydata.org/pandas-docs/stable/user_guide/indexing.html#returning-a-view-versus-a-copy\n",
      "  \n",
      "/opt/anaconda3/lib/python3.7/site-packages/ipykernel_launcher.py:9: SettingWithCopyWarning: \n",
      "A value is trying to be set on a copy of a slice from a DataFrame.\n",
      "Try using .loc[row_indexer,col_indexer] = value instead\n",
      "\n",
      "See the caveats in the documentation: http://pandas.pydata.org/pandas-docs/stable/user_guide/indexing.html#returning-a-view-versus-a-copy\n",
      "  if __name__ == '__main__':\n",
      "/opt/anaconda3/lib/python3.7/site-packages/ipykernel_launcher.py:10: SettingWithCopyWarning: \n",
      "A value is trying to be set on a copy of a slice from a DataFrame.\n",
      "Try using .loc[row_indexer,col_indexer] = value instead\n",
      "\n",
      "See the caveats in the documentation: http://pandas.pydata.org/pandas-docs/stable/user_guide/indexing.html#returning-a-view-versus-a-copy\n",
      "  # Remove the CWD from sys.path while we load stuff.\n"
     ]
    },
    {
     "data": {
      "text/html": [
       "<div>\n",
       "<style scoped>\n",
       "    .dataframe tbody tr th:only-of-type {\n",
       "        vertical-align: middle;\n",
       "    }\n",
       "\n",
       "    .dataframe tbody tr th {\n",
       "        vertical-align: top;\n",
       "    }\n",
       "\n",
       "    .dataframe thead th {\n",
       "        text-align: right;\n",
       "    }\n",
       "</style>\n",
       "<table border=\"1\" class=\"dataframe\">\n",
       "  <thead>\n",
       "    <tr style=\"text-align: right;\">\n",
       "      <th></th>\n",
       "      <th>source</th>\n",
       "      <th>device</th>\n",
       "      <th>operative_system</th>\n",
       "      <th>test</th>\n",
       "      <th>city</th>\n",
       "    </tr>\n",
       "    <tr>\n",
       "      <th>user_id</th>\n",
       "      <th></th>\n",
       "      <th></th>\n",
       "      <th></th>\n",
       "      <th></th>\n",
       "      <th></th>\n",
       "    </tr>\n",
       "  </thead>\n",
       "  <tbody>\n",
       "    <tr>\n",
       "      <td>604839</td>\n",
       "      <td>3</td>\n",
       "      <td>0</td>\n",
       "      <td>1</td>\n",
       "      <td>0</td>\n",
       "      <td>3</td>\n",
       "    </tr>\n",
       "    <tr>\n",
       "      <td>624057</td>\n",
       "      <td>8</td>\n",
       "      <td>0</td>\n",
       "      <td>0</td>\n",
       "      <td>0</td>\n",
       "      <td>8</td>\n",
       "    </tr>\n",
       "    <tr>\n",
       "      <td>317970</td>\n",
       "      <td>0</td>\n",
       "      <td>0</td>\n",
       "      <td>0</td>\n",
       "      <td>0</td>\n",
       "      <td>0</td>\n",
       "    </tr>\n",
       "    <tr>\n",
       "      <td>685636</td>\n",
       "      <td>5</td>\n",
       "      <td>0</td>\n",
       "      <td>1</td>\n",
       "      <td>1</td>\n",
       "      <td>5</td>\n",
       "    </tr>\n",
       "    <tr>\n",
       "      <td>820854</td>\n",
       "      <td>3</td>\n",
       "      <td>1</td>\n",
       "      <td>3</td>\n",
       "      <td>0</td>\n",
       "      <td>3</td>\n",
       "    </tr>\n",
       "  </tbody>\n",
       "</table>\n",
       "</div>"
      ],
      "text/plain": [
       "         source  device  operative_system  test  city\n",
       "user_id                                              \n",
       "604839        3       0                 1     0     3\n",
       "624057        8       0                 0     0     8\n",
       "317970        0       0                 0     0     0\n",
       "685636        5       0                 1     1     5\n",
       "820854        3       1                 3     0     3"
      ]
     },
     "execution_count": 41,
     "metadata": {},
     "output_type": "execute_result"
    }
   ],
   "source": [
    "from sklearn.preprocessing import LabelEncoder\n",
    "source_label_encoder = LabelEncoder()\n",
    "device_label_encoder = LabelEncoder()\n",
    "os_label_encoder = LabelEncoder()\n",
    "city_label_encoder = LabelEncoder()\n",
    "\n",
    "data[’source'] = source_label_encoder.fit_transform(data.source)\n",
    "data['device'] = device_label_encoder.fit_transform(data.device)\n",
    "data['operative_system'] = os_label_encoder.fit_transform(data.operative_system)\n",
    "data['city'] = city_label_encoder.fit_transform(data.source)\n",
    "data.head()"
   ]
  },
  {
   "cell_type": "markdown",
   "metadata": {},
   "source": [
    "Using chi2 from sklearn"
   ]
  },
  {
   "cell_type": "code",
   "execution_count": 44,
   "metadata": {},
   "outputs": [
    {
     "data": {
      "text/html": [
       "<div>\n",
       "<style scoped>\n",
       "    .dataframe tbody tr th:only-of-type {\n",
       "        vertical-align: middle;\n",
       "    }\n",
       "\n",
       "    .dataframe tbody tr th {\n",
       "        vertical-align: top;\n",
       "    }\n",
       "\n",
       "    .dataframe thead th {\n",
       "        text-align: right;\n",
       "    }\n",
       "</style>\n",
       "<table border=\"1\" class=\"dataframe\">\n",
       "  <thead>\n",
       "    <tr style=\"text-align: right;\">\n",
       "      <th></th>\n",
       "      <th>chi2_value</th>\n",
       "      <th>pvalue</th>\n",
       "    </tr>\n",
       "  </thead>\n",
       "  <tbody>\n",
       "    <tr>\n",
       "      <td>operative_system</td>\n",
       "      <td>69.103650</td>\n",
       "      <td>9.342229e-17</td>\n",
       "    </tr>\n",
       "    <tr>\n",
       "      <td>device</td>\n",
       "      <td>38.695245</td>\n",
       "      <td>4.954146e-10</td>\n",
       "    </tr>\n",
       "    <tr>\n",
       "      <td>source</td>\n",
       "      <td>4.432809</td>\n",
       "      <td>3.525445e-02</td>\n",
       "    </tr>\n",
       "    <tr>\n",
       "      <td>city</td>\n",
       "      <td>4.432809</td>\n",
       "      <td>3.525445e-02</td>\n",
       "    </tr>\n",
       "  </tbody>\n",
       "</table>\n",
       "</div>"
      ],
      "text/plain": [
       "                  chi2_value        pvalue\n",
       "operative_system   69.103650  9.342229e-17\n",
       "device             38.695245  4.954146e-10\n",
       "source              4.432809  3.525445e-02\n",
       "city                4.432809  3.525445e-02"
      ]
     },
     "execution_count": 44,
     "metadata": {},
     "output_type": "execute_result"
    }
   ],
   "source": [
    "from sklearn.feature_selection import chi2, f_classif\n",
    "\n",
    "colnames = ['source','device','operative_system','city']\n",
    "ch2values,pvalues = chi2(data.loc[:,colnames],data['test'])\n",
    "pd.DataFrame({'chi2_value' : ch2values, 'pvalue':pvalues},index = colnames).sort_values(by='pvalue')"
   ]
  },
  {
   "cell_type": "markdown",
   "metadata": {},
   "source": [
    "if alpa = 0.05, all p value < alpha, so if alpa = 0.05, all p value < alpha, so AB test is invalid randomization"
   ]
  },
  {
   "cell_type": "markdown",
   "metadata": {},
   "source": [
    "# Business Question 1：Should the company sell its software for 39 or 59?"
   ]
  },
  {
   "cell_type": "markdown",
   "metadata": {},
   "source": [
    "check the conversion rate for A/B test"
   ]
  },
  {
   "cell_type": "code",
   "execution_count": 50,
   "metadata": {},
   "outputs": [
    {
     "data": {
      "text/html": [
       "<div>\n",
       "<style scoped>\n",
       "    .dataframe tbody tr th:only-of-type {\n",
       "        vertical-align: middle;\n",
       "    }\n",
       "\n",
       "    .dataframe tbody tr th {\n",
       "        vertical-align: top;\n",
       "    }\n",
       "\n",
       "    .dataframe thead th {\n",
       "        text-align: right;\n",
       "    }\n",
       "</style>\n",
       "<table border=\"1\" class=\"dataframe\">\n",
       "  <thead>\n",
       "    <tr style=\"text-align: right;\">\n",
       "      <th></th>\n",
       "      <th>converted</th>\n",
       "    </tr>\n",
       "    <tr>\n",
       "      <th>test</th>\n",
       "      <th></th>\n",
       "    </tr>\n",
       "  </thead>\n",
       "  <tbody>\n",
       "    <tr>\n",
       "      <td>0</td>\n",
       "      <td>0.019768</td>\n",
       "    </tr>\n",
       "    <tr>\n",
       "      <td>1</td>\n",
       "      <td>0.015446</td>\n",
       "    </tr>\n",
       "  </tbody>\n",
       "</table>\n",
       "</div>"
      ],
      "text/plain": [
       "      converted\n",
       "test           \n",
       "0      0.019768\n",
       "1      0.015446"
      ]
     },
     "execution_count": 50,
     "metadata": {},
     "output_type": "execute_result"
    }
   ],
   "source": [
    "df[['test', 'converted']].groupby('test').mean()"
   ]
  },
  {
   "cell_type": "markdown",
   "metadata": {},
   "source": [
    "check the revenue for A/B test"
   ]
  },
  {
   "cell_type": "code",
   "execution_count": 51,
   "metadata": {},
   "outputs": [
    {
     "data": {
      "text/html": [
       "<div>\n",
       "<style scoped>\n",
       "    .dataframe tbody tr th:only-of-type {\n",
       "        vertical-align: middle;\n",
       "    }\n",
       "\n",
       "    .dataframe tbody tr th {\n",
       "        vertical-align: top;\n",
       "    }\n",
       "\n",
       "    .dataframe thead th {\n",
       "        text-align: right;\n",
       "    }\n",
       "</style>\n",
       "<table border=\"1\" class=\"dataframe\">\n",
       "  <thead>\n",
       "    <tr style=\"text-align: right;\">\n",
       "      <th></th>\n",
       "      <th>revenue</th>\n",
       "    </tr>\n",
       "    <tr>\n",
       "      <th>test</th>\n",
       "      <th></th>\n",
       "    </tr>\n",
       "  </thead>\n",
       "  <tbody>\n",
       "    <tr>\n",
       "      <td>0</td>\n",
       "      <td>0.770967</td>\n",
       "    </tr>\n",
       "    <tr>\n",
       "      <td>1</td>\n",
       "      <td>0.911330</td>\n",
       "    </tr>\n",
       "  </tbody>\n",
       "</table>\n",
       "</div>"
      ],
      "text/plain": [
       "       revenue\n",
       "test          \n",
       "0     0.770967\n",
       "1     0.911330"
      ]
     },
     "execution_count": 51,
     "metadata": {},
     "output_type": "execute_result"
    }
   ],
   "source": [
    "df[['test', 'revenue']].groupby('test').mean()"
   ]
  },
  {
   "cell_type": "markdown",
   "metadata": {},
   "source": [
    "* price $\\$39$ have a higher conversion rate $1.990\\%$. \n",
    "* price $\\$59$, the conversion rate is $1.556\\%$.\n",
    "* However, considering the price, the average revenue for higher price (0.918) is actually larger than the lower price ($0.776$)."
   ]
  },
  {
   "cell_type": "markdown",
   "metadata": {},
   "source": [
    "Although our test suggest that  $59  price can give us higher average revenue. However, because AB test is invalid randomization, the above result is not scientifically accurate. More scientific A/B test is needed."
   ]
  },
  {
   "cell_type": "markdown",
   "metadata": {},
   "source": [
    "# Business Question 2: The VP of Product is interested in having a holistic view into user behavior, especially focusing on actionable insights that might increase conversion rate. What are your main findings looking at the data?"
   ]
  },
  {
   "cell_type": "code",
   "execution_count": 54,
   "metadata": {},
   "outputs": [
    {
     "data": {
      "text/html": [
       "<div>\n",
       "<style scoped>\n",
       "    .dataframe tbody tr th:only-of-type {\n",
       "        vertical-align: middle;\n",
       "    }\n",
       "\n",
       "    .dataframe tbody tr th {\n",
       "        vertical-align: top;\n",
       "    }\n",
       "\n",
       "    .dataframe thead th {\n",
       "        text-align: right;\n",
       "    }\n",
       "</style>\n",
       "<table border=\"1\" class=\"dataframe\">\n",
       "  <thead>\n",
       "    <tr style=\"text-align: right;\">\n",
       "      <th></th>\n",
       "      <th>source</th>\n",
       "      <th>converted</th>\n",
       "    </tr>\n",
       "  </thead>\n",
       "  <tbody>\n",
       "    <tr>\n",
       "      <td>0</td>\n",
       "      <td>ads-bing</td>\n",
       "      <td>0.011990</td>\n",
       "    </tr>\n",
       "    <tr>\n",
       "      <td>1</td>\n",
       "      <td>ads-google</td>\n",
       "      <td>0.021379</td>\n",
       "    </tr>\n",
       "    <tr>\n",
       "      <td>2</td>\n",
       "      <td>ads-yahoo</td>\n",
       "      <td>0.014621</td>\n",
       "    </tr>\n",
       "    <tr>\n",
       "      <td>3</td>\n",
       "      <td>ads_facebook</td>\n",
       "      <td>0.021197</td>\n",
       "    </tr>\n",
       "    <tr>\n",
       "      <td>4</td>\n",
       "      <td>ads_other</td>\n",
       "      <td>0.014400</td>\n",
       "    </tr>\n",
       "    <tr>\n",
       "      <td>5</td>\n",
       "      <td>direct_traffic</td>\n",
       "      <td>0.012129</td>\n",
       "    </tr>\n",
       "    <tr>\n",
       "      <td>6</td>\n",
       "      <td>friend_referral</td>\n",
       "      <td>0.037899</td>\n",
       "    </tr>\n",
       "    <tr>\n",
       "      <td>7</td>\n",
       "      <td>seo-bing</td>\n",
       "      <td>0.021448</td>\n",
       "    </tr>\n",
       "    <tr>\n",
       "      <td>8</td>\n",
       "      <td>seo-google</td>\n",
       "      <td>0.016988</td>\n",
       "    </tr>\n",
       "    <tr>\n",
       "      <td>9</td>\n",
       "      <td>seo-other</td>\n",
       "      <td>0.015916</td>\n",
       "    </tr>\n",
       "    <tr>\n",
       "      <td>10</td>\n",
       "      <td>seo-yahoo</td>\n",
       "      <td>0.016625</td>\n",
       "    </tr>\n",
       "    <tr>\n",
       "      <td>11</td>\n",
       "      <td>seo_facebook</td>\n",
       "      <td>0.015876</td>\n",
       "    </tr>\n",
       "  </tbody>\n",
       "</table>\n",
       "</div>"
      ],
      "text/plain": [
       "             source  converted\n",
       "0          ads-bing   0.011990\n",
       "1        ads-google   0.021379\n",
       "2         ads-yahoo   0.014621\n",
       "3      ads_facebook   0.021197\n",
       "4         ads_other   0.014400\n",
       "5    direct_traffic   0.012129\n",
       "6   friend_referral   0.037899\n",
       "7          seo-bing   0.021448\n",
       "8        seo-google   0.016988\n",
       "9         seo-other   0.015916\n",
       "10        seo-yahoo   0.016625\n",
       "11     seo_facebook   0.015876"
      ]
     },
     "execution_count": 54,
     "metadata": {},
     "output_type": "execute_result"
    }
   ],
   "source": [
    "df.groupby('source')['converted'].mean().reset_index()"
   ]
  },
  {
   "cell_type": "markdown",
   "metadata": {},
   "source": [
    "## 1. Visualization of source"
   ]
  },
  {
   "cell_type": "markdown",
   "metadata": {},
   "source": [
    "Conversion rate with source"
   ]
  },
  {
   "cell_type": "code",
   "execution_count": 56,
   "metadata": {},
   "outputs": [
    {
     "data": {
      "image/png": "[encoded data removed]",
      "text/plain": [
       "<Figure size 1152x432 with 1 Axes>"
      ]
     },
     "metadata": {
      "needs_background": "light"
     },
     "output_type": "display_data"
    }
   ],
   "source": [
    "fig, ax = plt.subplots(figsize = (16, 6))\n",
    "sns.barplot(x = 'source', y = 'converted', data = df, ax = ax)\n",
    "ax.set_title('Mean Conversion Rate vs. Source', fontsize=16)\n",
    "plt.show()"
   ]
  },
  {
   "cell_type": "markdown",
   "metadata": {},
   "source": [
    "Conversion rate with source (A/B)"
   ]
  },
  {
   "cell_type": "code",
   "execution_count": 57,
   "metadata": {},
   "outputs": [
    {
     "data": {
      "image/png": "[encoded data removed]",
      "text/plain": [
       "<Figure size 1152x432 with 1 Axes>"
      ]
     },
     "metadata": {
      "needs_background": "light"
     },
     "output_type": "display_data"
    }
   ],
   "source": [
    "fig, ax = plt.subplots(figsize = (16, 6))\n",
    "sns.barplot(x = 'source', y = 'converted', hue ='test', data = df, ax=ax)\n",
    "ax.set_title('Mean Conversion Rate vs. Source', fontsize=16)\n",
    "plt.show()"
   ]
  },
  {
   "cell_type": "markdown",
   "metadata": {},
   "source": [
    "## 2. Visualization of Device"
   ]
  },
  {
   "cell_type": "code",
   "execution_count": 58,
   "metadata": {},
   "outputs": [
    {
     "data": {
      "text/html": [
       "<div>\n",
       "<style scoped>\n",
       "    .dataframe tbody tr th:only-of-type {\n",
       "        vertical-align: middle;\n",
       "    }\n",
       "\n",
       "    .dataframe tbody tr th {\n",
       "        vertical-align: top;\n",
       "    }\n",
       "\n",
       "    .dataframe thead th {\n",
       "        text-align: right;\n",
       "    }\n",
       "</style>\n",
       "<table border=\"1\" class=\"dataframe\">\n",
       "  <thead>\n",
       "    <tr style=\"text-align: right;\">\n",
       "      <th></th>\n",
       "      <th>device</th>\n",
       "      <th>converted</th>\n",
       "    </tr>\n",
       "  </thead>\n",
       "  <tbody>\n",
       "    <tr>\n",
       "      <td>0</td>\n",
       "      <td>mobile</td>\n",
       "      <td>0.018422</td>\n",
       "    </tr>\n",
       "    <tr>\n",
       "      <td>1</td>\n",
       "      <td>web</td>\n",
       "      <td>0.017914</td>\n",
       "    </tr>\n",
       "  </tbody>\n",
       "</table>\n",
       "</div>"
      ],
      "text/plain": [
       "   device  converted\n",
       "0  mobile   0.018422\n",
       "1     web   0.017914"
      ]
     },
     "execution_count": 58,
     "metadata": {},
     "output_type": "execute_result"
    }
   ],
   "source": [
    "df.groupby('device')['converted'].mean().reset_index()"
   ]
  },
  {
   "cell_type": "markdown",
   "metadata": {},
   "source": [
    "Conversion rate with device"
   ]
  },
  {
   "cell_type": "code",
   "execution_count": 60,
   "metadata": {},
   "outputs": [
    {
     "data": {
      "image/png": "[encoded data removed]",
      "text/plain": [
       "<Figure size 864x432 with 1 Axes>"
      ]
     },
     "metadata": {
      "needs_background": "light"
     },
     "output_type": "display_data"
    }
   ],
   "source": [
    "fig, ax = plt.subplots(figsize = (12, 6))\n",
    "sns.barplot(x = 'device', y = 'converted', data = df, ax = ax)\n",
    "ax.set_title('Mean Conversion Rate vs. Device', fontsize = 16)\n",
    "plt.show()"
   ]
  },
  {
   "cell_type": "markdown",
   "metadata": {},
   "source": [
    "Conversion rate with device (A/B)"
   ]
  },
  {
   "cell_type": "code",
   "execution_count": 61,
   "metadata": {},
   "outputs": [
    {
     "data": {
      "image/png": "[encoded data removed]",
      "text/plain": [
       "<Figure size 864x432 with 1 Axes>"
      ]
     },
     "metadata": {
      "needs_background": "light"
     },
     "output_type": "display_data"
    }
   ],
   "source": [
    "fig, ax = plt.subplots(figsize = (12, 6))\n",
    "sns.barplot(x = 'device', y = 'converted', hue = 'test', data = df, ax = ax)\n",
    "ax.set_title('Mean Conversion Rate vs. Device', fontsize = 16)\n",
    "plt.show()"
   ]
  },
  {
   "cell_type": "markdown",
   "metadata": {},
   "source": [
    "## 3. Visualization of Operative System"
   ]
  },
  {
   "cell_type": "code",
   "execution_count": 63,
   "metadata": {},
   "outputs": [
    {
     "data": {
      "text/html": [
       "<div>\n",
       "<style scoped>\n",
       "    .dataframe tbody tr th:only-of-type {\n",
       "        vertical-align: middle;\n",
       "    }\n",
       "\n",
       "    .dataframe tbody tr th {\n",
       "        vertical-align: top;\n",
       "    }\n",
       "\n",
       "    .dataframe thead th {\n",
       "        text-align: right;\n",
       "    }\n",
       "</style>\n",
       "<table border=\"1\" class=\"dataframe\">\n",
       "  <thead>\n",
       "    <tr style=\"text-align: right;\">\n",
       "      <th></th>\n",
       "      <th>operative_system</th>\n",
       "      <th>converted</th>\n",
       "    </tr>\n",
       "  </thead>\n",
       "  <tbody>\n",
       "    <tr>\n",
       "      <td>0</td>\n",
       "      <td>android</td>\n",
       "      <td>0.014821</td>\n",
       "    </tr>\n",
       "    <tr>\n",
       "      <td>1</td>\n",
       "      <td>iOS</td>\n",
       "      <td>0.022272</td>\n",
       "    </tr>\n",
       "    <tr>\n",
       "      <td>2</td>\n",
       "      <td>linux</td>\n",
       "      <td>0.008540</td>\n",
       "    </tr>\n",
       "    <tr>\n",
       "      <td>3</td>\n",
       "      <td>mac</td>\n",
       "      <td>0.024306</td>\n",
       "    </tr>\n",
       "    <tr>\n",
       "      <td>4</td>\n",
       "      <td>other</td>\n",
       "      <td>0.012324</td>\n",
       "    </tr>\n",
       "    <tr>\n",
       "      <td>5</td>\n",
       "      <td>windows</td>\n",
       "      <td>0.016733</td>\n",
       "    </tr>\n",
       "  </tbody>\n",
       "</table>\n",
       "</div>"
      ],
      "text/plain": [
       "  operative_system  converted\n",
       "0          android   0.014821\n",
       "1              iOS   0.022272\n",
       "2            linux   0.008540\n",
       "3              mac   0.024306\n",
       "4            other   0.012324\n",
       "5          windows   0.016733"
      ]
     },
     "execution_count": 63,
     "metadata": {},
     "output_type": "execute_result"
    }
   ],
   "source": [
    "df.groupby('operative_system')['converted'].mean().reset_index()"
   ]
  },
  {
   "cell_type": "markdown",
   "metadata": {},
   "source": [
    "Conversion rate with Operative System"
   ]
  },
  {
   "cell_type": "code",
   "execution_count": 64,
   "metadata": {},
   "outputs": [
    {
     "data": {
      "image/png": "[encoded data removed]",
      "text/plain": [
       "<Figure size 864x432 with 1 Axes>"
      ]
     },
     "metadata": {
      "needs_background": "light"
     },
     "output_type": "display_data"
    }
   ],
   "source": [
    "fig, ax = plt.subplots(figsize = (12, 6))\n",
    "sns.barplot(x = 'operative_system', y = 'converted', data = df, ax = ax)\n",
    "ax.set_title('Mean Conversion Rate vs. Operative System', fontsize = 16)\n",
    "plt.show()"
   ]
  },
  {
   "cell_type": "markdown",
   "metadata": {},
   "source": [
    "Conversion rate with Operative System (A/B)"
   ]
  },
  {
   "cell_type": "code",
   "execution_count": 66,
   "metadata": {},
   "outputs": [
    {
     "data": {
      "image/png": "[encoded data removed]",
      "text/plain": [
       "<Figure size 864x432 with 1 Axes>"
      ]
     },
     "metadata": {
      "needs_background": "light"
     },
     "output_type": "display_data"
    }
   ],
   "source": [
    "fig, ax = plt.subplots(figsize = (12, 6))\n",
    "sns.barplot(x = 'operative_system', y = 'converted', hue = 'test', data = df, ax = ax)\n",
    "ax.set_title('Mean Conversion Rate vs. Operative System', fontsize = 16)\n",
    "plt.show()"
   ]
  },
  {
   "cell_type": "markdown",
   "metadata": {},
   "source": [
    "## Observation:\n",
    "1. Source： Friend-referral users have much higher conversion rate\n",
    "2. Device: The influence of device is not significant\n",
    "3. Operative System: Mac and ios users have much higher conversion rate"
   ]
  },
  {
   "cell_type": "markdown",
   "metadata": {},
   "source": [
    "friend_referral, Apple user (MAC or iOS), low price are three great positive factors which improve the conversion rate, if we want to increase the price, which impacts negatively on conversion rate.\n",
    "There are two thing we can do\n",
    "\n",
    "* lauch special marketing program targeted to MAC or iOS users\n",
    "* rewards user which can invite his/her friend to use our software"
   ]
  },
  {
   "cell_type": "code",
   "execution_count": null,
   "metadata": {},
   "outputs": [],
   "source": []
  }
 ],
 "metadata": {
  "kernelspec": {
   "display_name": "Python 3",
   "language": "python",
   "name": "python3"
  },
  "language_info": {
   "codemirror_mode": {
    "name": "ipython",
    "version": 3
   },
   "file_extension": ".py",
   "mimetype": "text/x-python",
   "name": "python",
   "nbconvert_exporter": "python",
   "pygments_lexer": "ipython3",
   "version": "3.7.4"
  }
 },
 "nbformat": 4,
 "nbformat_minor": 2
}
